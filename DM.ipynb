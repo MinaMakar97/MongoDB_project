{
 "cells": [
  {
   "cell_type": "code",
   "execution_count": 1,
   "metadata": {
    "tags": []
   },
   "outputs": [],
   "source": [
    "import pymongo\n",
    "import pprint\n",
    "from collections import OrderedDict\n",
    "import pandas as pd"
   ]
  },
  {
   "cell_type": "markdown",
   "metadata": {
    "tags": []
   },
   "source": [
    "# Football Data Transfermarket"
   ]
  },
  {
   "cell_type": "code",
   "execution_count": 2,
   "metadata": {},
   "outputs": [],
   "source": [
    "password = 'o&FaL^bYun$7'"
   ]
  },
  {
   "cell_type": "markdown",
   "metadata": {},
   "source": [
    "# Connection Database"
   ]
  },
  {
   "cell_type": "code",
   "execution_count": 3,
   "metadata": {
    "tags": []
   },
   "outputs": [],
   "source": [
    "client = pymongo.MongoClient(\"mongodb+srv://Minetto:\"+ password + \"@cluster1.tvb8l.mongodb.net/test?retryWrites=true&w=majority\")\n",
    "db = client.football_stats2"
   ]
  },
  {
   "cell_type": "code",
   "execution_count": 5,
   "metadata": {
    "tags": []
   },
   "outputs": [
    {
     "name": "stdout",
     "output_type": "stream",
     "text": [
      "Requirement already satisfied: pymongo[srv] in c:\\users\\user\\appdata\\local\\programs\\python\\python36-32\\lib\\site-packages (4.1.1)\n",
      "Requirement already satisfied: dnspython<3.0.0,>=1.16.0 in c:\\users\\user\\appdata\\local\\programs\\python\\python36-32\\lib\\site-packages (from pymongo[srv]) (2.2.1)\n",
      "Note: you may need to restart the kernel to use updated packages.\n"
     ]
    }
   ],
   "source": [
    "pip install pymongo[srv]"
   ]
  },
  {
   "cell_type": "markdown",
   "metadata": {},
   "source": [
    "# Load Competition"
   ]
  },
  {
   "cell_type": "code",
   "execution_count": 7,
   "metadata": {
    "collapsed": true,
    "jupyter": {
     "outputs_hidden": true
    }
   },
   "outputs": [],
   "source": [
    "header = [\"competition_id\",\"name\",\"type\",\"country_id\",\"country_name\",\"domestic_league_code\",\"confederation\",\"url\"]\n",
    "dtypes = {\"competition_id\": 'str',\"name\": 'str',\"type\": 'str',\"country_name\": 'str',\"domestic_league_code\": 'str',\"confederation\": 'str',\"url\": 'str'}\n",
    "df = pd.read_csv(r\"E:\\magistrale\\Data Managment\\files\\competitions.csv\", names=header, dtype=dtypes)"
   ]
  },
  {
   "cell_type": "code",
   "execution_count": 8,
   "metadata": {
    "collapsed": true,
    "jupyter": {
     "outputs_hidden": true
    }
   },
   "outputs": [],
   "source": [
    "df['_id'] = df['competition_id']"
   ]
  },
  {
   "cell_type": "code",
   "execution_count": 11,
   "metadata": {},
   "outputs": [
    {
     "data": {
      "text/html": [
       "<div>\n",
       "<style scoped>\n",
       "    .dataframe tbody tr th:only-of-type {\n",
       "        vertical-align: middle;\n",
       "    }\n",
       "\n",
       "    .dataframe tbody tr th {\n",
       "        vertical-align: top;\n",
       "    }\n",
       "\n",
       "    .dataframe thead th {\n",
       "        text-align: right;\n",
       "    }\n",
       "</style>\n",
       "<table border=\"1\" class=\"dataframe\">\n",
       "  <thead>\n",
       "    <tr style=\"text-align: right;\">\n",
       "      <th></th>\n",
       "      <th>name</th>\n",
       "      <th>type</th>\n",
       "      <th>country_id</th>\n",
       "      <th>country_name</th>\n",
       "      <th>domestic_league_code</th>\n",
       "      <th>confederation</th>\n",
       "      <th>url</th>\n",
       "      <th>_id</th>\n",
       "    </tr>\n",
       "  </thead>\n",
       "  <tbody>\n",
       "    <tr>\n",
       "      <th>0</th>\n",
       "      <td>name</td>\n",
       "      <td>type</td>\n",
       "      <td>country_id</td>\n",
       "      <td>country_name</td>\n",
       "      <td>domestic_league_code</td>\n",
       "      <td>confederation</td>\n",
       "      <td>url</td>\n",
       "      <td>competition_id</td>\n",
       "    </tr>\n",
       "    <tr>\n",
       "      <th>1</th>\n",
       "      <td>bundesliga</td>\n",
       "      <td>first_tier</td>\n",
       "      <td>40</td>\n",
       "      <td>Germany</td>\n",
       "      <td>L1</td>\n",
       "      <td>europa</td>\n",
       "      <td>https://www.transfermarkt.co.uk/bundesliga/sta...</td>\n",
       "      <td>L1</td>\n",
       "    </tr>\n",
       "  </tbody>\n",
       "</table>\n",
       "</div>"
      ],
      "text/plain": [
       "         name        type  country_id  country_name  domestic_league_code  \\\n",
       "0        name        type  country_id  country_name  domestic_league_code   \n",
       "1  bundesliga  first_tier          40       Germany                    L1   \n",
       "\n",
       "   confederation                                                url  \\\n",
       "0  confederation                                                url   \n",
       "1         europa  https://www.transfermarkt.co.uk/bundesliga/sta...   \n",
       "\n",
       "              _id  \n",
       "0  competition_id  \n",
       "1              L1  "
      ]
     },
     "execution_count": 11,
     "metadata": {},
     "output_type": "execute_result"
    }
   ],
   "source": [
    "df.head(2)"
   ]
  },
  {
   "cell_type": "code",
   "execution_count": 10,
   "metadata": {
    "collapsed": true,
    "jupyter": {
     "outputs_hidden": true
    }
   },
   "outputs": [],
   "source": [
    "df.drop('competition_id', axis=1, inplace=True)"
   ]
  },
  {
   "cell_type": "code",
   "execution_count": 12,
   "metadata": {
    "tags": []
   },
   "outputs": [],
   "source": [
    "comp_dict = df.to_dict('records')"
   ]
  },
  {
   "cell_type": "code",
   "execution_count": 5,
   "metadata": {
    "tags": []
   },
   "outputs": [],
   "source": [
    "collection = db['competition']"
   ]
  },
  {
   "cell_type": "code",
   "execution_count": 13,
   "metadata": {},
   "outputs": [
    {
     "data": {
      "text/plain": [
       "<pymongo.results.InsertManyResult at 0x24241bd93a0>"
      ]
     },
     "execution_count": 13,
     "metadata": {},
     "output_type": "execute_result"
    }
   ],
   "source": [
    "collection.insert_many(comp_dict)"
   ]
  },
  {
   "cell_type": "code",
   "execution_count": 6,
   "metadata": {},
   "outputs": [
    {
     "data": {
      "text/plain": [
       "<pymongo.results.DeleteResult at 0x24241a30af0>"
      ]
     },
     "execution_count": 6,
     "metadata": {},
     "output_type": "execute_result"
    }
   ],
   "source": [
    "collection.delete_many({})"
   ]
  },
  {
   "cell_type": "code",
   "execution_count": 106,
   "metadata": {},
   "outputs": [
    {
     "data": {
      "text/plain": [
       "43"
      ]
     },
     "execution_count": 106,
     "metadata": {},
     "output_type": "execute_result"
    }
   ],
   "source": [
    "db.competition.count_documents({})"
   ]
  },
  {
   "cell_type": "markdown",
   "metadata": {},
   "source": [
    "# Load Club"
   ]
  },
  {
   "cell_type": "code",
   "execution_count": 30,
   "metadata": {
    "tags": []
   },
   "outputs": [],
   "source": [
    "json =  {\"$jsonSchema\": {\n",
    "\t\t\t\"required\": [ \"name\"],\n",
    "\t\t\t\"properties\": {\n",
    "\t\t\t\t\"name\": { \"bsonType\": \"string\" },\n",
    "\t\t\t\t\"pretty_name\": { \"bsonType\": \"string\" },\n",
    "\t\t\t\t\"domestic_competition_id\": { \"bsonType\": \"string\" }\n",
    "\t\t\t\t\n",
    "\t\t\t} \n",
    "\t\t}\n",
    "    }"
   ]
  },
  {
   "cell_type": "code",
   "execution_count": 31,
   "metadata": {},
   "outputs": [],
   "source": [
    "cmd = OrderedDict([('collMod', 'clubs'),\n",
    "            ('validator', json),\n",
    "            ('validationLevel', 'moderate')])"
   ]
  },
  {
   "cell_type": "code",
   "execution_count": 32,
   "metadata": {},
   "outputs": [
    {
     "data": {
      "text/plain": [
       "{'ok': 1.0,\n",
       " '$clusterTime': {'clusterTime': Timestamp(1653129693, 22),\n",
       "  'signature': {'hash': b'\\x0c\\xaffGV\\x02\\x9f\\xcc\\xb5\\xa8\\xf1\\x01\\xc4[\\x05\\x83\\x18qE[',\n",
       "   'keyId': 7045684881749180491}},\n",
       " 'operationTime': Timestamp(1653129693, 22)}"
      ]
     },
     "execution_count": 32,
     "metadata": {},
     "output_type": "execute_result"
    }
   ],
   "source": [
    "db.command(cmd)"
   ]
  },
  {
   "cell_type": "code",
   "execution_count": 27,
   "metadata": {
    "tags": []
   },
   "outputs": [],
   "source": [
    "collection = db['clubs']"
   ]
  },
  {
   "cell_type": "code",
   "execution_count": 101,
   "metadata": {
    "tags": []
   },
   "outputs": [],
   "source": [
    "df = pd.read_csv(r\"E:\\magistrale\\Data Managment\\files\\clubs.csv\")"
   ]
  },
  {
   "cell_type": "code",
   "execution_count": 29,
   "metadata": {
    "tags": []
   },
   "outputs": [],
   "source": [
    "df['_id'] = df['club_id']\n",
    "df.drop('club_id', axis=1, inplace=True)"
   ]
  },
  {
   "cell_type": "code",
   "execution_count": 30,
   "metadata": {},
   "outputs": [
    {
     "data": {
      "text/html": [
       "<div>\n",
       "<style scoped>\n",
       "    .dataframe tbody tr th:only-of-type {\n",
       "        vertical-align: middle;\n",
       "    }\n",
       "\n",
       "    .dataframe tbody tr th {\n",
       "        vertical-align: top;\n",
       "    }\n",
       "\n",
       "    .dataframe thead th {\n",
       "        text-align: right;\n",
       "    }\n",
       "</style>\n",
       "<table border=\"1\" class=\"dataframe\">\n",
       "  <thead>\n",
       "    <tr style=\"text-align: right;\">\n",
       "      <th></th>\n",
       "      <th>name</th>\n",
       "      <th>pretty_name</th>\n",
       "      <th>domestic_competition_id</th>\n",
       "      <th>total_market_value</th>\n",
       "      <th>squad_size</th>\n",
       "      <th>average_age</th>\n",
       "      <th>foreigners_number</th>\n",
       "      <th>foreigners_percentage</th>\n",
       "      <th>national_team_players</th>\n",
       "      <th>stadium_name</th>\n",
       "      <th>stadium_seats</th>\n",
       "      <th>net_transfer_record</th>\n",
       "      <th>coach_name</th>\n",
       "      <th>url</th>\n",
       "      <th>_id</th>\n",
       "    </tr>\n",
       "  </thead>\n",
       "  <tbody>\n",
       "    <tr>\n",
       "      <th>0</th>\n",
       "      <td>ud-almeria</td>\n",
       "      <td>Ud Almeria</td>\n",
       "      <td>ES1</td>\n",
       "      <td>51.66</td>\n",
       "      <td>25</td>\n",
       "      <td>25.7</td>\n",
       "      <td>10</td>\n",
       "      <td>40.0</td>\n",
       "      <td>2</td>\n",
       "      <td>Estadio de los Juegos Mediterráneos</td>\n",
       "      <td>15274</td>\n",
       "      <td>£-4.82m</td>\n",
       "      <td>Francisco Rodríguez</td>\n",
       "      <td>https://www.transfermarkt.co.uk/ud-almeria/sta...</td>\n",
       "      <td>3302</td>\n",
       "    </tr>\n",
       "    <tr>\n",
       "      <th>1</th>\n",
       "      <td>niki-volou</td>\n",
       "      <td>Niki Volou</td>\n",
       "      <td>GR1</td>\n",
       "      <td>3.40</td>\n",
       "      <td>24</td>\n",
       "      <td>28.0</td>\n",
       "      <td>6</td>\n",
       "      <td>25.0</td>\n",
       "      <td>1</td>\n",
       "      <td>Panthessaliko Stadio</td>\n",
       "      <td>22700</td>\n",
       "      <td>+-0</td>\n",
       "      <td>Wiljan Vloet</td>\n",
       "      <td>https://www.transfermarkt.co.uk/niki-volou/sta...</td>\n",
       "      <td>5572</td>\n",
       "    </tr>\n",
       "  </tbody>\n",
       "</table>\n",
       "</div>"
      ],
      "text/plain": [
       "         name pretty_name domestic_competition_id  total_market_value  \\\n",
       "0  ud-almeria  Ud Almeria                     ES1               51.66   \n",
       "1  niki-volou  Niki Volou                     GR1                3.40   \n",
       "\n",
       "   squad_size  average_age  foreigners_number  foreigners_percentage  \\\n",
       "0          25         25.7                 10                   40.0   \n",
       "1          24         28.0                  6                   25.0   \n",
       "\n",
       "   national_team_players                         stadium_name  stadium_seats  \\\n",
       "0                      2  Estadio de los Juegos Mediterráneos          15274   \n",
       "1                      1                 Panthessaliko Stadio          22700   \n",
       "\n",
       "  net_transfer_record           coach_name  \\\n",
       "0             £-4.82m  Francisco Rodríguez   \n",
       "1                 +-0         Wiljan Vloet   \n",
       "\n",
       "                                                 url   _id  \n",
       "0  https://www.transfermarkt.co.uk/ud-almeria/sta...  3302  \n",
       "1  https://www.transfermarkt.co.uk/niki-volou/sta...  5572  "
      ]
     },
     "execution_count": 30,
     "metadata": {},
     "output_type": "execute_result"
    }
   ],
   "source": [
    "df.head(2)"
   ]
  },
  {
   "cell_type": "code",
   "execution_count": 102,
   "metadata": {
    "tags": []
   },
   "outputs": [],
   "source": [
    "club_dict = df.to_dict('records')"
   ]
  },
  {
   "cell_type": "code",
   "execution_count": null,
   "metadata": {
    "tags": []
   },
   "outputs": [],
   "source": [
    "club_dict"
   ]
  },
  {
   "cell_type": "code",
   "execution_count": 32,
   "metadata": {},
   "outputs": [
    {
     "data": {
      "text/plain": [
       "<pymongo.results.InsertManyResult at 0x2d7d7c9a7f0>"
      ]
     },
     "execution_count": 32,
     "metadata": {},
     "output_type": "execute_result"
    }
   ],
   "source": [
    "collection.insert_many(club_dict)"
   ]
  },
  {
   "cell_type": "code",
   "execution_count": 16,
   "metadata": {},
   "outputs": [
    {
     "data": {
      "text/plain": [
       "<pymongo.results.DeleteResult at 0x24241bd9520>"
      ]
     },
     "execution_count": 16,
     "metadata": {},
     "output_type": "execute_result"
    }
   ],
   "source": [
    "collection.delete_many({})"
   ]
  },
  {
   "cell_type": "markdown",
   "metadata": {},
   "source": [
    "# Load Games"
   ]
  },
  {
   "cell_type": "code",
   "execution_count": 95,
   "metadata": {
    "tags": []
   },
   "outputs": [],
   "source": [
    "games = pd.read_csv(r\"E:\\magistrale\\Data Managment\\hw3\\games.csv\")"
   ]
  },
  {
   "cell_type": "code",
   "execution_count": 96,
   "metadata": {},
   "outputs": [
    {
     "data": {
      "text/html": [
       "<div>\n",
       "<style scoped>\n",
       "    .dataframe tbody tr th:only-of-type {\n",
       "        vertical-align: middle;\n",
       "    }\n",
       "\n",
       "    .dataframe tbody tr th {\n",
       "        vertical-align: top;\n",
       "    }\n",
       "\n",
       "    .dataframe thead th {\n",
       "        text-align: right;\n",
       "    }\n",
       "</style>\n",
       "<table border=\"1\" class=\"dataframe\">\n",
       "  <thead>\n",
       "    <tr style=\"text-align: right;\">\n",
       "      <th></th>\n",
       "      <th>name</th>\n",
       "      <th>game_id</th>\n",
       "      <th>competition_code</th>\n",
       "      <th>season</th>\n",
       "      <th>round</th>\n",
       "      <th>date</th>\n",
       "      <th>home_club_id</th>\n",
       "      <th>away_club_id</th>\n",
       "      <th>home_club_goals</th>\n",
       "      <th>away_club_goals</th>\n",
       "      <th>home_club_position</th>\n",
       "      <th>away_club_position</th>\n",
       "      <th>home_club_name</th>\n",
       "      <th>away_club_name</th>\n",
       "    </tr>\n",
       "  </thead>\n",
       "  <tbody>\n",
       "    <tr>\n",
       "      <th>0</th>\n",
       "      <td>johan-cruijff-schaal</td>\n",
       "      <td>2457642</td>\n",
       "      <td>NLSC</td>\n",
       "      <td>2014</td>\n",
       "      <td>Final</td>\n",
       "      <td>2014-08-03</td>\n",
       "      <td>1269</td>\n",
       "      <td>610</td>\n",
       "      <td>1</td>\n",
       "      <td>0</td>\n",
       "      <td>0</td>\n",
       "      <td>0</td>\n",
       "      <td>Pec Zwolle</td>\n",
       "      <td>Ajax Amsterdam</td>\n",
       "    </tr>\n",
       "  </tbody>\n",
       "</table>\n",
       "</div>"
      ],
      "text/plain": [
       "                   name  game_id competition_code  season  round        date  \\\n",
       "0  johan-cruijff-schaal  2457642             NLSC    2014  Final  2014-08-03   \n",
       "\n",
       "   home_club_id  away_club_id  home_club_goals  away_club_goals  \\\n",
       "0          1269           610                1                0   \n",
       "\n",
       "   home_club_position  away_club_position home_club_name  away_club_name  \n",
       "0                   0                   0     Pec Zwolle  Ajax Amsterdam  "
      ]
     },
     "execution_count": 96,
     "metadata": {},
     "output_type": "execute_result"
    }
   ],
   "source": [
    "games.head(1)"
   ]
  },
  {
   "cell_type": "code",
   "execution_count": 98,
   "metadata": {
    "tags": []
   },
   "outputs": [],
   "source": [
    "#games['attendance'] = games['attendance'].fillna(0).astype(\"int64\")\n",
    "games['home_club_position'] = games['home_club_position'].fillna(0).astype(\"int64\")\n",
    "games['away_club_position'] = games['away_club_position'].fillna(0).astype(\"int64\")\n",
    "games['_id'] = games['game_id']\n",
    "games.drop('game_id', axis=1, inplace=True)"
   ]
  },
  {
   "cell_type": "code",
   "execution_count": 99,
   "metadata": {
    "tags": []
   },
   "outputs": [],
   "source": [
    "collection = db['games']"
   ]
  },
  {
   "cell_type": "code",
   "execution_count": 101,
   "metadata": {
    "tags": []
   },
   "outputs": [],
   "source": [
    "games_dict = games.to_dict('records')"
   ]
  },
  {
   "cell_type": "code",
   "execution_count": 103,
   "metadata": {},
   "outputs": [
    {
     "data": {
      "text/plain": [
       "<pymongo.results.InsertManyResult at 0x18bd8b30a30>"
      ]
     },
     "execution_count": 103,
     "metadata": {},
     "output_type": "execute_result"
    }
   ],
   "source": [
    "collection.insert_many(games_dict)"
   ]
  },
  {
   "cell_type": "code",
   "execution_count": 102,
   "metadata": {},
   "outputs": [
    {
     "data": {
      "text/plain": [
       "<pymongo.results.DeleteResult at 0x18bd8b30d30>"
      ]
     },
     "execution_count": 102,
     "metadata": {},
     "output_type": "execute_result"
    }
   ],
   "source": [
    "collection.delete_many({})"
   ]
  },
  {
   "cell_type": "markdown",
   "metadata": {
    "tags": []
   },
   "source": [
    "# Load Competition with game_id"
   ]
  },
  {
   "cell_type": "code",
   "execution_count": 4,
   "metadata": {},
   "outputs": [],
   "source": [
    "comp = pd.read_csv(r\"E:\\magistrale\\Data Managment\\hw3\\competitions.csv\")"
   ]
  },
  {
   "cell_type": "code",
   "execution_count": 5,
   "metadata": {},
   "outputs": [],
   "source": [
    "comp[\"_id\"] = comp.competition_id"
   ]
  },
  {
   "cell_type": "code",
   "execution_count": 6,
   "metadata": {},
   "outputs": [],
   "source": [
    "comp.drop('competition_id', axis=1, inplace=True)"
   ]
  },
  {
   "cell_type": "code",
   "execution_count": 7,
   "metadata": {},
   "outputs": [
    {
     "data": {
      "text/html": [
       "<div>\n",
       "<style scoped>\n",
       "    .dataframe tbody tr th:only-of-type {\n",
       "        vertical-align: middle;\n",
       "    }\n",
       "\n",
       "    .dataframe tbody tr th {\n",
       "        vertical-align: top;\n",
       "    }\n",
       "\n",
       "    .dataframe thead th {\n",
       "        text-align: right;\n",
       "    }\n",
       "</style>\n",
       "<table border=\"1\" class=\"dataframe\">\n",
       "  <thead>\n",
       "    <tr style=\"text-align: right;\">\n",
       "      <th></th>\n",
       "      <th>name</th>\n",
       "      <th>type</th>\n",
       "      <th>country_id</th>\n",
       "      <th>country_name</th>\n",
       "      <th>domestic_league_code</th>\n",
       "      <th>confederation</th>\n",
       "      <th>url</th>\n",
       "      <th>_id</th>\n",
       "    </tr>\n",
       "  </thead>\n",
       "  <tbody>\n",
       "    <tr>\n",
       "      <th>0</th>\n",
       "      <td>bundesliga</td>\n",
       "      <td>first_tier</td>\n",
       "      <td>40</td>\n",
       "      <td>Germany</td>\n",
       "      <td>L1</td>\n",
       "      <td>europa</td>\n",
       "      <td>https://www.transfermarkt.co.uk/bundesliga/sta...</td>\n",
       "      <td>L1</td>\n",
       "    </tr>\n",
       "    <tr>\n",
       "      <th>1</th>\n",
       "      <td>dfb-pokal</td>\n",
       "      <td>domestic_cup</td>\n",
       "      <td>40</td>\n",
       "      <td>Germany</td>\n",
       "      <td>L1</td>\n",
       "      <td>europa</td>\n",
       "      <td>https://www.transfermarkt.co.uk/dfb-pokal/star...</td>\n",
       "      <td>DFB</td>\n",
       "    </tr>\n",
       "    <tr>\n",
       "      <th>2</th>\n",
       "      <td>dfl-supercup</td>\n",
       "      <td>domestic_super_cup</td>\n",
       "      <td>40</td>\n",
       "      <td>Germany</td>\n",
       "      <td>L1</td>\n",
       "      <td>europa</td>\n",
       "      <td>https://www.transfermarkt.co.uk/dfl-supercup/s...</td>\n",
       "      <td>DFL</td>\n",
       "    </tr>\n",
       "    <tr>\n",
       "      <th>3</th>\n",
       "      <td>eredivisie</td>\n",
       "      <td>first_tier</td>\n",
       "      <td>122</td>\n",
       "      <td>Netherlands</td>\n",
       "      <td>NL1</td>\n",
       "      <td>europa</td>\n",
       "      <td>https://www.transfermarkt.co.uk/eredivisie/sta...</td>\n",
       "      <td>NL1</td>\n",
       "    </tr>\n",
       "    <tr>\n",
       "      <th>4</th>\n",
       "      <td>toto-knvb-beker</td>\n",
       "      <td>domestic_cup</td>\n",
       "      <td>122</td>\n",
       "      <td>Netherlands</td>\n",
       "      <td>NL1</td>\n",
       "      <td>europa</td>\n",
       "      <td>https://www.transfermarkt.co.uk/toto-knvb-beke...</td>\n",
       "      <td>NLP</td>\n",
       "    </tr>\n",
       "  </tbody>\n",
       "</table>\n",
       "</div>"
      ],
      "text/plain": [
       "              name                type  country_id country_name  \\\n",
       "0       bundesliga          first_tier          40      Germany   \n",
       "1        dfb-pokal        domestic_cup          40      Germany   \n",
       "2     dfl-supercup  domestic_super_cup          40      Germany   \n",
       "3       eredivisie          first_tier         122  Netherlands   \n",
       "4  toto-knvb-beker        domestic_cup         122  Netherlands   \n",
       "\n",
       "  domestic_league_code confederation  \\\n",
       "0                   L1        europa   \n",
       "1                   L1        europa   \n",
       "2                   L1        europa   \n",
       "3                  NL1        europa   \n",
       "4                  NL1        europa   \n",
       "\n",
       "                                                 url  _id  \n",
       "0  https://www.transfermarkt.co.uk/bundesliga/sta...   L1  \n",
       "1  https://www.transfermarkt.co.uk/dfb-pokal/star...  DFB  \n",
       "2  https://www.transfermarkt.co.uk/dfl-supercup/s...  DFL  \n",
       "3  https://www.transfermarkt.co.uk/eredivisie/sta...  NL1  \n",
       "4  https://www.transfermarkt.co.uk/toto-knvb-beke...  NLP  "
      ]
     },
     "execution_count": 7,
     "metadata": {},
     "output_type": "execute_result"
    }
   ],
   "source": [
    "comp.head()"
   ]
  },
  {
   "cell_type": "code",
   "execution_count": 8,
   "metadata": {},
   "outputs": [],
   "source": [
    "comp_dict = comp.to_dict('records')"
   ]
  },
  {
   "cell_type": "code",
   "execution_count": 89,
   "metadata": {},
   "outputs": [],
   "source": [
    "games = pd.read_csv(r\"E:\\magistrale\\Data Managment\\hw3\\games.csv\")"
   ]
  },
  {
   "cell_type": "code",
   "execution_count": 21,
   "metadata": {},
   "outputs": [
    {
     "data": {
      "text/plain": [
       "{'name': 'bundesliga',\n",
       " 'type': 'first_tier',\n",
       " 'country_id': 40,\n",
       " 'country_name': 'Germany',\n",
       " 'domestic_league_code': 'L1',\n",
       " 'confederation': 'europa',\n",
       " 'url': 'https://www.transfermarkt.co.uk/bundesliga/startseite/wettbewerb/L1',\n",
       " '_id': 'L1'}"
      ]
     },
     "execution_count": 21,
     "metadata": {},
     "output_type": "execute_result"
    }
   ],
   "source": [
    "comp_dict[0]"
   ]
  },
  {
   "cell_type": "code",
   "execution_count": 11,
   "metadata": {},
   "outputs": [],
   "source": [
    "idx_comp = dict()\n",
    "for i, el in enumerate(comp_dict):\n",
    "    idx_comp[el['_id']] = i\n",
    "    comp_dict[i]['games'] = []"
   ]
  },
  {
   "cell_type": "code",
   "execution_count": 13,
   "metadata": {},
   "outputs": [],
   "source": [
    "for i, row in games.iterrows():\n",
    "    comp_dict[idx_comp[row['competition_code']]]['games'].append(row['game_id'])"
   ]
  },
  {
   "cell_type": "code",
   "execution_count": 14,
   "metadata": {},
   "outputs": [],
   "source": [
    "collection = db['competition']"
   ]
  },
  {
   "cell_type": "code",
   "execution_count": 17,
   "metadata": {},
   "outputs": [
    {
     "data": {
      "text/plain": [
       "<pymongo.results.DeleteResult at 0x18bd893fca0>"
      ]
     },
     "execution_count": 17,
     "metadata": {},
     "output_type": "execute_result"
    }
   ],
   "source": [
    "collection.delete_many({})"
   ]
  },
  {
   "cell_type": "code",
   "execution_count": 18,
   "metadata": {},
   "outputs": [
    {
     "data": {
      "text/plain": [
       "<pymongo.results.InsertManyResult at 0x18bd8995a60>"
      ]
     },
     "execution_count": 18,
     "metadata": {},
     "output_type": "execute_result"
    }
   ],
   "source": [
    "collection.insert_many(comp_dict)"
   ]
  },
  {
   "cell_type": "markdown",
   "metadata": {},
   "source": [
    "# Load Player with Appearances"
   ]
  },
  {
   "cell_type": "code",
   "execution_count": 41,
   "metadata": {},
   "outputs": [],
   "source": [
    "player = pd.read_csv(r\"E:\\magistrale\\Data Managment\\hw3\\players.csv\")\n"
   ]
  },
  {
   "cell_type": "code",
   "execution_count": 42,
   "metadata": {},
   "outputs": [],
   "source": [
    "player['_id'] = player['player_id']\n",
    "player.drop('player_id', inplace=True, axis=1)"
   ]
  },
  {
   "cell_type": "code",
   "execution_count": 43,
   "metadata": {},
   "outputs": [],
   "source": [
    "play_dict = player.to_dict('records')\n",
    "app = pd.read_csv(r\"E:\\magistrale\\Data Managment\\hw3\\app1.csv\")"
   ]
  },
  {
   "cell_type": "code",
   "execution_count": 44,
   "metadata": {},
   "outputs": [],
   "source": [
    "idx_player = dict()\n",
    "for i, el in enumerate(play_dict):\n",
    "    idx_player[el['_id']] = i\n",
    "    play_dict[i]['appearances'] = []\n",
    "    play_dict[i]['all_club_id_player'] = []"
   ]
  },
  {
   "cell_type": "code",
   "execution_count": 65,
   "metadata": {},
   "outputs": [
    {
     "data": {
      "text/html": [
       "<div>\n",
       "<style scoped>\n",
       "    .dataframe tbody tr th:only-of-type {\n",
       "        vertical-align: middle;\n",
       "    }\n",
       "\n",
       "    .dataframe tbody tr th {\n",
       "        vertical-align: top;\n",
       "    }\n",
       "\n",
       "    .dataframe thead th {\n",
       "        text-align: right;\n",
       "    }\n",
       "</style>\n",
       "<table border=\"1\" class=\"dataframe\">\n",
       "  <thead>\n",
       "    <tr style=\"text-align: right;\">\n",
       "      <th></th>\n",
       "      <th>season</th>\n",
       "      <th>name</th>\n",
       "      <th>player_id</th>\n",
       "      <th>game_id</th>\n",
       "      <th>appearance_id</th>\n",
       "      <th>competition_id</th>\n",
       "      <th>player_club_id</th>\n",
       "      <th>goals</th>\n",
       "      <th>assists</th>\n",
       "      <th>minutes_played</th>\n",
       "      <th>yellow_cards</th>\n",
       "      <th>red_cards</th>\n",
       "    </tr>\n",
       "  </thead>\n",
       "  <tbody>\n",
       "    <tr>\n",
       "      <th>0</th>\n",
       "      <td>2014</td>\n",
       "      <td>serie-a</td>\n",
       "      <td>10</td>\n",
       "      <td>2478592</td>\n",
       "      <td>2478592_10</td>\n",
       "      <td>IT1</td>\n",
       "      <td>398</td>\n",
       "      <td>0</td>\n",
       "      <td>0</td>\n",
       "      <td>59</td>\n",
       "      <td>0</td>\n",
       "      <td>0</td>\n",
       "    </tr>\n",
       "  </tbody>\n",
       "</table>\n",
       "</div>"
      ],
      "text/plain": [
       "   season     name  player_id  game_id appearance_id competition_id  \\\n",
       "0    2014  serie-a         10  2478592    2478592_10            IT1   \n",
       "\n",
       "   player_club_id  goals  assists  minutes_played  yellow_cards  red_cards  \n",
       "0             398      0        0              59             0          0  "
      ]
     },
     "execution_count": 65,
     "metadata": {},
     "output_type": "execute_result"
    }
   ],
   "source": [
    "app.head(1)"
   ]
  },
  {
   "cell_type": "code",
   "execution_count": 45,
   "metadata": {},
   "outputs": [],
   "source": [
    "for i, row in app.iterrows():\n",
    "    play_dict[idx_player[row['player_id']]]['appearances'].append(row.to_dict())\n",
    "    if row['player_club_id'] not in play_dict[idx_player[row['player_id']]]['all_club_id_player']:\n",
    "        play_dict[idx_player[row['player_id']]]['all_club_id_player'].append(row['player_club_id'])"
   ]
  },
  {
   "cell_type": "code",
   "execution_count": 47,
   "metadata": {},
   "outputs": [],
   "source": [
    "import json\n",
    "with open(r\"E:\\magistrale\\Data Managment\\hw3\\prova\", 'w') as fout:\n",
    "    json.dump(play_dict, fout)"
   ]
  },
  {
   "cell_type": "code",
   "execution_count": 55,
   "metadata": {},
   "outputs": [],
   "source": [
    "db = client.football_stats2"
   ]
  },
  {
   "cell_type": "code",
   "execution_count": 56,
   "metadata": {},
   "outputs": [],
   "source": [
    "collection = db['players']"
   ]
  },
  {
   "cell_type": "code",
   "execution_count": 57,
   "metadata": {},
   "outputs": [
    {
     "data": {
      "text/plain": [
       "<pymongo.results.DeleteResult at 0x226b71e7640>"
      ]
     },
     "execution_count": 57,
     "metadata": {},
     "output_type": "execute_result"
    }
   ],
   "source": [
    "collection.delete_many({})"
   ]
  },
  {
   "cell_type": "code",
   "execution_count": 58,
   "metadata": {},
   "outputs": [
    {
     "data": {
      "text/plain": [
       "<pymongo.results.InsertManyResult at 0x226b6ea8250>"
      ]
     },
     "execution_count": 58,
     "metadata": {},
     "output_type": "execute_result"
    }
   ],
   "source": [
    "collection.insert_many(play_dict)"
   ]
  },
  {
   "cell_type": "code",
   "execution_count": 10,
   "metadata": {},
   "outputs": [],
   "source": [
    "collection = db['players']"
   ]
  },
  {
   "cell_type": "code",
   "execution_count": 25,
   "metadata": {},
   "outputs": [],
   "source": [
    "collection = db['players']"
   ]
  },
  {
   "cell_type": "code",
   "execution_count": null,
   "metadata": {
    "tags": []
   },
   "outputs": [],
   "source": [
    "list(collection.find({\"_id\":28003}))"
   ]
  },
  {
   "cell_type": "markdown",
   "metadata": {},
   "source": [
    "# Load Scored-together"
   ]
  },
  {
   "cell_type": "code",
   "execution_count": 63,
   "metadata": {},
   "outputs": [],
   "source": [
    "df = pd.read_csv('E:\\magistrale\\Data Managment\\hw3\\scored_together.csv')"
   ]
  },
  {
   "cell_type": "code",
   "execution_count": 66,
   "metadata": {},
   "outputs": [],
   "source": [
    "df.drop('player_club_id.1', inplace=True, axis=1)"
   ]
  },
  {
   "cell_type": "code",
   "execution_count": 67,
   "metadata": {},
   "outputs": [],
   "source": [
    "dict_t = df.to_dict('records')"
   ]
  },
  {
   "cell_type": "code",
   "execution_count": 71,
   "metadata": {},
   "outputs": [
    {
     "data": {
      "text/plain": [
       "{'player1': 72165,\n",
       " 'player2': 67064,\n",
       " 'player_club_id': 28095,\n",
       " 'scored_together': 1,\n",
       " 'game_id': 2506733,\n",
       " 'pretty_name': 'Fk Ufa',\n",
       " '_id': ObjectId('628a92ac01764bc7d94dd8f5')}"
      ]
     },
     "execution_count": 71,
     "metadata": {},
     "output_type": "execute_result"
    }
   ],
   "source": [
    "dict_t[0]"
   ]
  },
  {
   "cell_type": "code",
   "execution_count": 70,
   "metadata": {},
   "outputs": [
    {
     "data": {
      "text/plain": [
       "<pymongo.results.InsertManyResult at 0x226d5fbd070>"
      ]
     },
     "execution_count": 70,
     "metadata": {},
     "output_type": "execute_result"
    }
   ],
   "source": [
    "db['scored_together'].insert_many(dict_t)"
   ]
  },
  {
   "cell_type": "code",
   "execution_count": 69,
   "metadata": {},
   "outputs": [
    {
     "data": {
      "text/plain": [
       "<pymongo.results.DeleteResult at 0x226d02aef40>"
      ]
     },
     "execution_count": 69,
     "metadata": {},
     "output_type": "execute_result"
    }
   ],
   "source": [
    "db['scored_together'].delete_many({})"
   ]
  },
  {
   "cell_type": "markdown",
   "metadata": {},
   "source": [
    "# Query 1 - Find all the players that have played with at least 2 teams, and return the number of goals (at least 5) for each team. -"
   ]
  },
  {
   "cell_type": "code",
   "execution_count": null,
   "metadata": {},
   "outputs": [],
   "source": [
    "with result as (\n",
    "\tselect player_id, player_club_id, sum(goals) as goal_player\n",
    "\tfrom football_stats.appearances\n",
    "\tgroup by player_id, player_club_id\n",
    ") \n",
    "select p.player_id, result.goal_player, club.pretty_name, p.pretty_name\n",
    "from result result, football_stats_2.players p, \n",
    "\t(select count(*) club_number, player_id \n",
    "\tfrom result result, football_stats_2.clubs clubs\n",
    "\twhere 1=1\n",
    "    and clubs.club_id = result.player_club_id\n",
    "    and goal_player > 5\n",
    "\tgroup by player_id \n",
    "\thaving club_number > 1) number_club_player,\n",
    "football_stats_2.clubs club\n",
    "where result.player_id = p.player_id\n",
    "\tand number_club_player.player_id = p.player_id\n",
    "\tand result.player_id = number_club_player.player_id\n",
    "    and club.club_id = result.player_club_id\n",
    "    and goal_player > 5\n",
    "order by p.pretty_name  desc, goal_player desc\n",
    ";"
   ]
  },
  {
   "cell_type": "code",
   "execution_count": 17,
   "metadata": {},
   "outputs": [
    {
     "data": {
      "text/html": [
       "<div>\n",
       "<style scoped>\n",
       "    .dataframe tbody tr th:only-of-type {\n",
       "        vertical-align: middle;\n",
       "    }\n",
       "\n",
       "    .dataframe tbody tr th {\n",
       "        vertical-align: top;\n",
       "    }\n",
       "\n",
       "    .dataframe thead th {\n",
       "        text-align: right;\n",
       "    }\n",
       "</style>\n",
       "<table border=\"1\" class=\"dataframe\">\n",
       "  <thead>\n",
       "    <tr style=\"text-align: right;\">\n",
       "      <th></th>\n",
       "      <th>name_player</th>\n",
       "      <th>number_goal</th>\n",
       "      <th>club_name</th>\n",
       "    </tr>\n",
       "  </thead>\n",
       "  <tbody>\n",
       "    <tr>\n",
       "      <th>0</th>\n",
       "      <td>Zlatan Ibrahimovic</td>\n",
       "      <td>66</td>\n",
       "      <td>Fc Paris Saint Germain</td>\n",
       "    </tr>\n",
       "    <tr>\n",
       "      <th>1</th>\n",
       "      <td>Zlatan Ibrahimovic</td>\n",
       "      <td>36</td>\n",
       "      <td>Ac Mailand</td>\n",
       "    </tr>\n",
       "    <tr>\n",
       "      <th>2</th>\n",
       "      <td>Zlatan Ibrahimovic</td>\n",
       "      <td>28</td>\n",
       "      <td>Manchester United</td>\n",
       "    </tr>\n",
       "    <tr>\n",
       "      <th>3</th>\n",
       "      <td>Zinho Gano</td>\n",
       "      <td>6</td>\n",
       "      <td>Kv Kortrijk</td>\n",
       "    </tr>\n",
       "    <tr>\n",
       "      <th>4</th>\n",
       "      <td>Zinho Gano</td>\n",
       "      <td>12</td>\n",
       "      <td>Sv Zulte Waregem</td>\n",
       "    </tr>\n",
       "    <tr>\n",
       "      <th>5</th>\n",
       "      <td>Zinho Gano</td>\n",
       "      <td>19</td>\n",
       "      <td>Waasland Beveren</td>\n",
       "    </tr>\n",
       "    <tr>\n",
       "      <th>6</th>\n",
       "      <td>Zinho Gano</td>\n",
       "      <td>6</td>\n",
       "      <td>Kv Oostende</td>\n",
       "    </tr>\n",
       "    <tr>\n",
       "      <th>7</th>\n",
       "      <td>Zian Flemming</td>\n",
       "      <td>17</td>\n",
       "      <td>Fortuna Sittard</td>\n",
       "    </tr>\n",
       "    <tr>\n",
       "      <th>8</th>\n",
       "      <td>Zian Flemming</td>\n",
       "      <td>6</td>\n",
       "      <td>Pec Zwolle</td>\n",
       "    </tr>\n",
       "    <tr>\n",
       "      <th>9</th>\n",
       "      <td>Zequinha</td>\n",
       "      <td>8</td>\n",
       "      <td>Vitoria Setubal Fc</td>\n",
       "    </tr>\n",
       "  </tbody>\n",
       "</table>\n",
       "</div>"
      ],
      "text/plain": [
       "          name_player  number_goal               club_name\n",
       "0  Zlatan Ibrahimovic           66  Fc Paris Saint Germain\n",
       "1  Zlatan Ibrahimovic           36              Ac Mailand\n",
       "2  Zlatan Ibrahimovic           28       Manchester United\n",
       "3          Zinho Gano            6             Kv Kortrijk\n",
       "4          Zinho Gano           12        Sv Zulte Waregem\n",
       "5          Zinho Gano           19        Waasland Beveren\n",
       "6          Zinho Gano            6             Kv Oostende\n",
       "7       Zian Flemming           17         Fortuna Sittard\n",
       "8       Zian Flemming            6              Pec Zwolle\n",
       "9            Zequinha            8      Vitoria Setubal Fc"
      ]
     },
     "execution_count": 17,
     "metadata": {},
     "output_type": "execute_result"
    }
   ],
   "source": [
    "collection = db['players']\n",
    "pip = [\n",
    "        {\"$match\": {'all_club_id_player.1': {\"$exists\": True} }}, # see if the second element exists in the array\n",
    "        {\"$unwind\":  '$appearances' },\n",
    "        { \"$group\": \n",
    "                {\n",
    "                    \"_id\":{\"name_player\":\"$pretty_name\", \"club_name\":\"$appearances.club_name\"},\n",
    "                    \"number_goal\": { \"$sum\": \"$appearances.goals\" }\n",
    "                }\n",
    "            },\n",
    "        {'$project': {\"_id\":0, 'name_player':'$_id.name_player', 'number_goal':\"$number_goal\", 'club_name':\"$_id.club_name\"}} ,\n",
    "        {\"$match\": {'number_goal':{\"$gt\": 5}}},\n",
    "        {\"$sort\":{'name_player': -1 }},  \n",
    "        {\"$limit\":10}\n",
    "]\n",
    "pd.DataFrame(list(collection.aggregate(pip)))"
   ]
  },
  {
   "cell_type": "markdown",
   "metadata": {
    "tags": []
   },
   "source": [
    "# Query 2 - The top scorer (player with the highest number of goals) for each year"
   ]
  },
  {
   "cell_type": "code",
   "execution_count": null,
   "metadata": {},
   "outputs": [],
   "source": [
    "with result as (\n",
    "\tselect season, app.player_id, sum(goals) as goals\n",
    "\tfrom football_stats.games games, football_stats.appearances app\n",
    "\twhere app.game_id = games.game_id\n",
    "\tgroup by season, app.player_id\n",
    ")\n",
    "select pretty_name, result.goals, result.season\n",
    "from result result, football_stats.players player\n",
    "where 1=1\n",
    "\tand result.player_id = player.player_id\n",
    "\tand (result.season, goals) in (select season, max(goals) from result group by season) \n",
    "\tand result.season > 2013 \n",
    "order by season\n",
    ";"
   ]
  },
  {
   "cell_type": "code",
   "execution_count": 19,
   "metadata": {
    "tags": []
   },
   "outputs": [
    {
     "data": {
      "text/plain": [
       "[{'season': 2014, 'number_goal': 61, 'player_name': 'Cristiano Ronaldo'},\n",
       " {'season': 2015, 'number_goal': 59, 'player_name': 'Luis Suarez'},\n",
       " {'season': 2016, 'number_goal': 54, 'player_name': 'Lionel Messi'},\n",
       " {'season': 2017, 'number_goal': 45, 'player_name': 'Lionel Messi'},\n",
       " {'season': 2018, 'number_goal': 51, 'player_name': 'Lionel Messi'},\n",
       " {'season': 2019, 'number_goal': 51, 'player_name': 'Robert Lewandowski'},\n",
       " {'season': 2020, 'number_goal': 52, 'player_name': 'Robert Lewandowski'},\n",
       " {'season': 2021, 'number_goal': 34, 'player_name': 'Robert Lewandowski'}]"
      ]
     },
     "execution_count": 19,
     "metadata": {},
     "output_type": "execute_result"
    }
   ],
   "source": [
    "# at the momemnt in the insert we added season\n",
    "collection = db['players']\n",
    "pip = [\n",
    "        {\"$unwind\":  '$appearances' },\n",
    "        { \"$group\": \n",
    "                {\n",
    "                   \"_id\":{\"name_player\":\"$pretty_name\", \"season\":\"$appearances.season\"},\n",
    "                    \"Number Goal\": { \"$sum\": \"$appearances.goals\" }\n",
    "                }\n",
    "            },\n",
    "    {\"$project\":{\"_id\":0, \"player_name\":'$_id.name_player', 'season':\"$_id.season\", \"number_goal\":\"$Number Goal\"}},\n",
    "    { \"$group\": \n",
    "                {\n",
    "                   \"_id\":{\"season\": \"$season\"},\n",
    "                     \"Number_goal\": { \"$max\": \"$number_goal\" },\n",
    "                    \"gioc\":{\"$push\":{\"player_name\": \"$player_name\", \"number_goal\": \"$number_goal\" }}, # show the meaning of this operation\n",
    "                   \n",
    "\n",
    "                }\n",
    "            },\n",
    "    {\"$unwind\":  '$gioc' },\n",
    "    {\"$project\":{\"_id\":0, \"season\":\"$_id.season\", \"matched\":{\"$eq\":[\"$gioc.number_goal\",\"$Number_goal\" ]}, \"number_goal\":\"$Number_goal\", \"player_name\":\"$gioc.player_name\"}},\n",
    "    {\"$match\":{\"matched\":True, \"season\":{\"$gt\":2013}}},\n",
    "    {\"$sort\":{'season': 1 }},  \n",
    "    {\"$project\":{\"season\":\"$season\", \"number_goal\":\"$number_goal\", \"player_name\":\"$player_name\"}},\n",
    "    #{\"$limit\":3}\n",
    "]\n",
    "list(collection.aggregate(pip))"
   ]
  },
  {
   "cell_type": "markdown",
   "metadata": {},
   "source": [
    "## Query 3 - Average goal per game in the serie A and liga"
   ]
  },
  {
   "cell_type": "code",
   "execution_count": null,
   "metadata": {},
   "outputs": [],
   "source": [
    "select comp.name, result.avg_goal\n",
    "from (\n",
    "\tselect competition_code,  sum(home_club_goals + away_club_goals) / count(*) as avg_goal\n",
    "\tfrom football_stats_2.games\n",
    "    where competition_code in (\"IT1\", \"ES1\") \n",
    "    group by competition_code) as result,\n",
    "    football_stats_2.competition comp\n",
    "where comp.competition_id = result.competition_code"
   ]
  },
  {
   "cell_type": "code",
   "execution_count": 20,
   "metadata": {},
   "outputs": [
    {
     "data": {
      "text/html": [
       "<div>\n",
       "<style scoped>\n",
       "    .dataframe tbody tr th:only-of-type {\n",
       "        vertical-align: middle;\n",
       "    }\n",
       "\n",
       "    .dataframe tbody tr th {\n",
       "        vertical-align: top;\n",
       "    }\n",
       "\n",
       "    .dataframe thead th {\n",
       "        text-align: right;\n",
       "    }\n",
       "</style>\n",
       "<table border=\"1\" class=\"dataframe\">\n",
       "  <thead>\n",
       "    <tr style=\"text-align: right;\">\n",
       "      <th></th>\n",
       "      <th>competition name</th>\n",
       "      <th>Avg_goals</th>\n",
       "    </tr>\n",
       "  </thead>\n",
       "  <tbody>\n",
       "    <tr>\n",
       "      <th>0</th>\n",
       "      <td>serie-a</td>\n",
       "      <td>2.828195</td>\n",
       "    </tr>\n",
       "    <tr>\n",
       "      <th>1</th>\n",
       "      <td>laliga</td>\n",
       "      <td>2.647202</td>\n",
       "    </tr>\n",
       "  </tbody>\n",
       "</table>\n",
       "</div>"
      ],
      "text/plain": [
       "  competition name  Avg_goals\n",
       "0          serie-a   2.828195\n",
       "1           laliga   2.647202"
      ]
     },
     "execution_count": 20,
     "metadata": {},
     "output_type": "execute_result"
    }
   ],
   "source": [
    "collection = db['competition']\n",
    "pip = [ {\"$match\": { \"_id\" : { \"$in\": [\"IT1\",\"ES1\"]}}},\n",
    "        {\"$unwind\": \"$games\"},\n",
    "        {\"$lookup\": {\n",
    "            \"from\": \"games\", \n",
    "            \"localField\": \"games\",\n",
    "            \"foreignField\": \"_id\",\n",
    "            \"as\": \"games\"}},\n",
    "       {\"$unwind\": \"$games\"},\n",
    "       {\"$group\": { \"_id\":\"$name\", \"Number_Goals_Home\": { \"$sum\": \"$games.home_club_goals\" },\"Number_Goals_Away\": { \"$sum\": \"$games.away_club_goals\"},\n",
    "                  \"Number_Matches\": { \"$count\": {}}}},\n",
    "       {\"$set\": {\"Total_goals\" : {\"$add\": [\"$Number_Goals_Home\",\"$Number_Goals_Away\"]}}},\n",
    "       {\"$set\": {\"Avg_goals\": {\"$divide\": [\"$Total_goals\",\"$Number_Matches\"]}}},\n",
    "       {\"$project\": {\"_id\":0, \"competition name\":\"$_id\", \"Avg_goals\": \"$Avg_goals\"}},\n",
    "     \n",
    "      ]\n",
    "pd.DataFrame(list(collection.aggregate(pip)))"
   ]
  },
  {
   "cell_type": "markdown",
   "metadata": {},
   "source": [
    "## Query 4 - The most aggressive country, we mean the nationality of the player -"
   ]
  },
  {
   "cell_type": "code",
   "execution_count": null,
   "metadata": {},
   "outputs": [],
   "source": [
    "select country_of_birth, sum(case when red_cards > 0 then 2 else yellow_cards end) /count(*) as cards_per_game\n",
    "from football_stats.appearances  cards, \n",
    "\tfootball_stats.players \n",
    "where cards.player_id = players.player_id\n",
    "group by country_of_birth\n",
    "having count(*) > 200  # used to delete the result less significant\n",
    "order by cards_per_game desc\n",
    "limit 1;\n"
   ]
  },
  {
   "cell_type": "code",
   "execution_count": 21,
   "metadata": {},
   "outputs": [
    {
     "data": {
      "text/html": [
       "<div>\n",
       "<style scoped>\n",
       "    .dataframe tbody tr th:only-of-type {\n",
       "        vertical-align: middle;\n",
       "    }\n",
       "\n",
       "    .dataframe tbody tr th {\n",
       "        vertical-align: top;\n",
       "    }\n",
       "\n",
       "    .dataframe thead th {\n",
       "        text-align: right;\n",
       "    }\n",
       "</style>\n",
       "<table border=\"1\" class=\"dataframe\">\n",
       "  <thead>\n",
       "    <tr style=\"text-align: right;\">\n",
       "      <th></th>\n",
       "      <th>Country</th>\n",
       "      <th>cards</th>\n",
       "      <th>cards_per_game</th>\n",
       "      <th>Number_match</th>\n",
       "    </tr>\n",
       "  </thead>\n",
       "  <tbody>\n",
       "    <tr>\n",
       "      <th>0</th>\n",
       "      <td>Bolivia</td>\n",
       "      <td>81</td>\n",
       "      <td>0.361607</td>\n",
       "      <td>224</td>\n",
       "    </tr>\n",
       "  </tbody>\n",
       "</table>\n",
       "</div>"
      ],
      "text/plain": [
       "   Country  cards  cards_per_game  Number_match\n",
       "0  Bolivia     81        0.361607           224"
      ]
     },
     "execution_count": 21,
     "metadata": {},
     "output_type": "execute_result"
    }
   ],
   "source": [
    "collection = db['players']\n",
    "pip = [ \n",
    "        {\"$unwind\":  '$appearances' },\n",
    "        { \"$group\": \n",
    "                {\n",
    "                   \"_id\":{\"country_name\":\"$country_of_birth\"}, # to have the number of the cards --> case when in sql\n",
    "                    \"cards\" : { \"$sum\" : { \"$cond\": [ {  \"$gt\": [ \"$appearances.red_cards\" , 0] }, 2, \"$appearances.yellow_cards\" ] } },\n",
    "                    \"Number_match\": {\"$sum\": 1}\n",
    "                }\n",
    "            },\n",
    "       {\"$match\": {\"Number_match\": {'$gt': 200 } }},\n",
    "       {\"$set\": {\"cards_per_game\": {\"$divide\": [\"$cards\",\"$Number_match\"]}}},\n",
    "       {\"$sort\":{'cards_per_game':-1}},\n",
    "       {\"$limit\":1},\n",
    "       {\"$project\":{\"_id\":0, \"Country\":\"$_id.country_name\", \"cards\":\"$cards\",\"cards_per_game\":\"$cards_per_game\", \"Number_match\":\"$Number_match\"}}\n",
    "      ]\n",
    "pd.DataFrame(list(collection.aggregate(pip)))"
   ]
  },
  {
   "cell_type": "markdown",
   "metadata": {},
   "source": [
    "## Query 5 - The most winning team for each championship with number of win"
   ]
  },
  {
   "cell_type": "code",
   "execution_count": null,
   "metadata": {},
   "outputs": [],
   "source": [
    "with RESULT_QUERY as (\n",
    "        select c.name as club_name, comp.name as competition_name, count(*) as Number_Win\n",
    "        from ( # define the winner for each match\n",
    "\t\t\t\tSELECT (\n",
    "                    case when home_club_goals > away_club_goals \n",
    "                        then home_club_id\n",
    "                    else  away_club_id end\n",
    "                    ) as winner, competition_code\n",
    "             FROM football_stats.games \t \n",
    "             WHERE # to ignore drawn games\n",
    "\t\t\t\t   home_club_goals > away_club_goals    \n",
    "                   or home_club_goals < away_club_goals\n",
    "\t\t\t) w, \n",
    "\t\t\tfootball_stats.clubs c, \n",
    "\t\t\tfootball_stats.competition comp\n",
    "    where w.winner = c.club_id\n",
    "    and comp.competition_id = w.competition_code\n",
    "    group by c.name, comp.name\n",
    "    having count(*) > 5        \n",
    "    )\n",
    "\t\n",
    "\t# and now we should extract for each championship the most winning team\n",
    "    # if we try to find it before, there is an error because we grouped by competition name and number win and so we can't \n",
    "    select * from RESULT_QUERY q1 \n",
    "\t\t# in this case we admit the duplicates in case of two teams having the same number of wins\n",
    "\t\twhere (q1.competition_name,q1.Number_win) = \n",
    "\t\t(\n",
    "\t\t\t# we extract the max number of win for each competition with the competition name\n",
    "\t\t\t\n",
    "\t\t\tSELECT competition_name, MAX(Number_win)\n",
    "\t\t\tFROM RESULT_QUERY q2\n",
    "\t\t\twhere q1.competition_name = q2.competition_name\n",
    "\t\t\tgroup by competition_name\n",
    "\t\t)\n",
    "\torder by number_win desc\n",
    "    ;"
   ]
  },
  {
   "cell_type": "code",
   "execution_count": 22,
   "metadata": {},
   "outputs": [
    {
     "data": {
      "text/html": [
       "<div>\n",
       "<style scoped>\n",
       "    .dataframe tbody tr th:only-of-type {\n",
       "        vertical-align: middle;\n",
       "    }\n",
       "\n",
       "    .dataframe tbody tr th {\n",
       "        vertical-align: top;\n",
       "    }\n",
       "\n",
       "    .dataframe thead th {\n",
       "        text-align: right;\n",
       "    }\n",
       "</style>\n",
       "<table border=\"1\" class=\"dataframe\">\n",
       "  <thead>\n",
       "    <tr style=\"text-align: right;\">\n",
       "      <th></th>\n",
       "      <th>best club competition</th>\n",
       "      <th>competition</th>\n",
       "      <th>win</th>\n",
       "    </tr>\n",
       "  </thead>\n",
       "  <tbody>\n",
       "    <tr>\n",
       "      <th>0</th>\n",
       "      <td>Juventus Turin</td>\n",
       "      <td>serie-a</td>\n",
       "      <td>203</td>\n",
       "    </tr>\n",
       "    <tr>\n",
       "      <th>1</th>\n",
       "      <td>Fc Paris Saint Germain</td>\n",
       "      <td>ligue-1</td>\n",
       "      <td>203</td>\n",
       "    </tr>\n",
       "    <tr>\n",
       "      <th>2</th>\n",
       "      <td>Manchester City</td>\n",
       "      <td>premier-league</td>\n",
       "      <td>201</td>\n",
       "    </tr>\n",
       "    <tr>\n",
       "      <th>3</th>\n",
       "      <td>Celtic Glasgow</td>\n",
       "      <td>scottish-premiership</td>\n",
       "      <td>199</td>\n",
       "    </tr>\n",
       "    <tr>\n",
       "      <th>4</th>\n",
       "      <td>Fc Barcelona</td>\n",
       "      <td>laliga</td>\n",
       "      <td>199</td>\n",
       "    </tr>\n",
       "    <tr>\n",
       "      <th>5</th>\n",
       "      <td>Benfica Lissabon</td>\n",
       "      <td>liga-portugal-bwin</td>\n",
       "      <td>195</td>\n",
       "    </tr>\n",
       "    <tr>\n",
       "      <th>6</th>\n",
       "      <td>Fc Bayern Munchen</td>\n",
       "      <td>bundesliga</td>\n",
       "      <td>195</td>\n",
       "    </tr>\n",
       "    <tr>\n",
       "      <th>7</th>\n",
       "      <td>Ajax Amsterdam</td>\n",
       "      <td>eredivisie</td>\n",
       "      <td>185</td>\n",
       "    </tr>\n",
       "    <tr>\n",
       "      <th>8</th>\n",
       "      <td>Olympiakos Piraus</td>\n",
       "      <td>super-league-1</td>\n",
       "      <td>171</td>\n",
       "    </tr>\n",
       "    <tr>\n",
       "      <th>9</th>\n",
       "      <td>Besiktas Istanbul</td>\n",
       "      <td>super-lig</td>\n",
       "      <td>164</td>\n",
       "    </tr>\n",
       "  </tbody>\n",
       "</table>\n",
       "</div>"
      ],
      "text/plain": [
       "    best club competition           competition  win\n",
       "0          Juventus Turin               serie-a  203\n",
       "1  Fc Paris Saint Germain               ligue-1  203\n",
       "2         Manchester City        premier-league  201\n",
       "3          Celtic Glasgow  scottish-premiership  199\n",
       "4            Fc Barcelona                laliga  199\n",
       "5        Benfica Lissabon    liga-portugal-bwin  195\n",
       "6       Fc Bayern Munchen            bundesliga  195\n",
       "7          Ajax Amsterdam            eredivisie  185\n",
       "8       Olympiakos Piraus        super-league-1  171\n",
       "9       Besiktas Istanbul             super-lig  164"
      ]
     },
     "execution_count": 22,
     "metadata": {},
     "output_type": "execute_result"
    }
   ],
   "source": [
    "collection = db['competition']\n",
    "pip = [ \n",
    "        {\"$unwind\":  '$games' },\n",
    "        {\"$lookup\": {\"from\": \"games\", \n",
    "                    \"localField\": \"games\", \n",
    "                    \"foreignField\": \"_id\", \n",
    "                    \"as\": \"games\"}},\n",
    "        {\"$unwind\": \"$games\"},\n",
    "        {\"$match\": \n",
    "        {\"$expr\": {\"$ne\": [\"$games.home_club_goals\", \"$games.away_club_goals\"] } }}, # to discard the draws\n",
    "      \n",
    "        # to have the winner of the match --> case when in sql\n",
    "      {\"$project\": { \"winner\": {\"$cond\": [ {  \"$gt\": [ \"$games.home_club_goals\" , \"$games.away_club_goals\"] }, \"$games.home_club_name\", \"$games.away_club_name\" ] } , \"comp_name\":\"$name\"}},\n",
    "       { \"$group\": \n",
    "                {\n",
    "                   \"_id\": {\"winner\":\"$winner\", \"comp_name\": \"$comp_name\"},\n",
    "                    \"Number_match\": {\"$sum\": 1},\n",
    "                    \n",
    "                }\n",
    "            },\n",
    "       { \"$group\": \n",
    "                {\n",
    "                   \"_id\": {\"comp_name\": \"$_id.comp_name\"},\n",
    "                    \"max_win\": {\"$max\": \"$Number_match\"},\n",
    "                    \"win\":{\"$push\":{\"winner\": \"$_id.winner\", \"number_win\": \"$Number_match\" }},\n",
    "                }\n",
    "            },\n",
    "      {\"$unwind\":  '$win' },\n",
    "      {\"$match\": {\"$expr\": {'$eq': [ \"$max_win\", \"$win.number_win\"], }}},\n",
    "      {\"$project\": {\"_id\":0, \"best club competition\": \"$win.winner\", \"competition\": \"$_id.comp_name\", \"win\":'$max_win'}},\n",
    "      {\"$sort\":{'win': -1}},\n",
    "      {\"$limit\":10}\n",
    "      ]\n",
    "pd.DataFrame(list(collection.aggregate(pip)))"
   ]
  },
  {
   "cell_type": "markdown",
   "metadata": {},
   "source": [
    "## Query 6 - The italian players that had at least 100 matches in foreign championships - "
   ]
  },
  {
   "cell_type": "code",
   "execution_count": null,
   "metadata": {},
   "outputs": [],
   "source": [
    "select players.pretty_name, count(*) as number_matches_abroad\n",
    "from  football_stats_2.appearances app,football_stats_2.players,  football_stats_2.competition comp\n",
    "where 1=1\n",
    "and players.country_of_birth = \"Italy\"\n",
    "and app.player_id = players.player_id \n",
    "and comp.competition_id = app.competition_id\n",
    "and comp.country_name != \"Italy\" and comp.type = \"first_tier\"\n",
    "group by players.pretty_name\n",
    "having count(*) > 100\n",
    "order by number_matches_abroad desc;"
   ]
  },
  {
   "cell_type": "code",
   "execution_count": 9,
   "metadata": {},
   "outputs": [
    {
     "data": {
      "text/plain": [
       "'country_index'"
      ]
     },
     "execution_count": 9,
     "metadata": {},
     "output_type": "execute_result"
    }
   ],
   "source": [
    "db['players'].create_index([('country_of_birth', -1)], name='country_index')"
   ]
  },
  {
   "cell_type": "code",
   "execution_count": 23,
   "metadata": {
    "tags": []
   },
   "outputs": [
    {
     "data": {
      "text/html": [
       "<div>\n",
       "<style scoped>\n",
       "    .dataframe tbody tr th:only-of-type {\n",
       "        vertical-align: middle;\n",
       "    }\n",
       "\n",
       "    .dataframe tbody tr th {\n",
       "        vertical-align: top;\n",
       "    }\n",
       "\n",
       "    .dataframe thead th {\n",
       "        text-align: right;\n",
       "    }\n",
       "</style>\n",
       "<table border=\"1\" class=\"dataframe\">\n",
       "  <thead>\n",
       "    <tr style=\"text-align: right;\">\n",
       "      <th></th>\n",
       "      <th>Player_name</th>\n",
       "      <th>Number_matches</th>\n",
       "    </tr>\n",
       "  </thead>\n",
       "  <tbody>\n",
       "    <tr>\n",
       "      <th>0</th>\n",
       "      <td>Marco Verratti</td>\n",
       "      <td>179</td>\n",
       "    </tr>\n",
       "    <tr>\n",
       "      <th>1</th>\n",
       "      <td>Angelo Ogbonna</td>\n",
       "      <td>173</td>\n",
       "    </tr>\n",
       "    <tr>\n",
       "      <th>2</th>\n",
       "      <td>Thiago</td>\n",
       "      <td>169</td>\n",
       "    </tr>\n",
       "  </tbody>\n",
       "</table>\n",
       "</div>"
      ],
      "text/plain": [
       "      Player_name  Number_matches\n",
       "0  Marco Verratti             179\n",
       "1  Angelo Ogbonna             173\n",
       "2          Thiago             169"
      ]
     },
     "execution_count": 23,
     "metadata": {},
     "output_type": "execute_result"
    }
   ],
   "source": [
    "collection = db['players']\n",
    "pip = [{\"$match\": {\"country_of_birth\": \"Italy\"}},\n",
    "       {\"$unwind\" : \"$appearances\"},\n",
    "       {\"$group\": { \"_id\":{\"Player_name\": \"$pretty_name\",\"Competition_id\": \"$appearances.competition_id\"}, \"Number_matches\": { \"$count\": {} }}},\n",
    "       {\"$project\": {\"_id\":0,\"pretty_name\":\"$_id.Player_name\", \"comp_id\": \"$_id.Competition_id\", \"Number_matches\":\"$Number_matches\"}},\n",
    "        {\"$lookup\": {\n",
    "            \"from\": \"competition\", \n",
    "            \"let\":{\"comp_id\": \"$comp_id\"},\n",
    "            \"pipeline\":[\n",
    "                 {\"$match\": {\n",
    "                        \"$expr\": {\n",
    "                                 \"$and\":[\n",
    "                                 { \"$eq\": [\"$_id\", \"$$comp_id\"]} , \n",
    "                                 {\"$ne\": [\"$country_name\", \"Italy\"]}, \n",
    "                                 {\"$eq\": [\"$type\",\"first_tier\"]}\n",
    "                                 ]\n",
    "                        }\n",
    "                 }\n",
    "                },\n",
    "                { \"$project\": { \"country_name\": \"$country_name\", \"type\":\"$type\"}}\n",
    "            ],\n",
    "            \"as\": \"competition\"}},\n",
    "       {\"$unwind\": \"$competition\"},\n",
    "       {\"$group\": { \"_id\":{\"Player_name\": \"$pretty_name\"}, \"Number_matches\": { \"$sum\": \"$Number_matches\" }}},\n",
    "       \n",
    "       {\"$sort\":{\"Number_matches\":-1}},\n",
    "       {\"$limit\":3},\n",
    "       {\"$project\":{\"_id\":0, \"Player_name\":\"$_id.Player_name\", \"Number_matches\":\"$Number_matches\"}}\n",
    "      ]\n",
    "pd.DataFrame(list(collection.aggregate(pip)))"
   ]
  },
  {
   "cell_type": "markdown",
   "metadata": {},
   "source": [
    "## Query 7 - Ranking of pairs of player that scored together in the same match - "
   ]
  },
  {
   "cell_type": "code",
   "execution_count": null,
   "metadata": {},
   "outputs": [],
   "source": [
    "select ap1.player_id as player1, ap2.player_id as player2, ap1.game_id, case when ap1.goals > 0 and ap2.goals > 0 then True else False end as scored_together\n",
    "from football_stats.appearances ap1, football_stats.appearances ap2\n",
    "where 1=1\n",
    "    and  ap1.game_id = ap2.game_id\n",
    "    and ap1.player_club_id = ap2.player_club_id\n",
    "    and ap1.player_id > ap2.player_id    #to remove the duplicates generated by the self-join es. (player1-player2 and also player2-player1)\n",
    "    # and ap1.player_id != ap2.player_id\n",
    "    and ap1.goals > 0 and ap2.goals > 0"
   ]
  },
  {
   "cell_type": "code",
   "execution_count": 24,
   "metadata": {},
   "outputs": [
    {
     "data": {
      "text/html": [
       "<div>\n",
       "<style scoped>\n",
       "    .dataframe tbody tr th:only-of-type {\n",
       "        vertical-align: middle;\n",
       "    }\n",
       "\n",
       "    .dataframe tbody tr th {\n",
       "        vertical-align: top;\n",
       "    }\n",
       "\n",
       "    .dataframe thead th {\n",
       "        text-align: right;\n",
       "    }\n",
       "</style>\n",
       "<table border=\"1\" class=\"dataframe\">\n",
       "  <thead>\n",
       "    <tr style=\"text-align: right;\">\n",
       "      <th></th>\n",
       "      <th>player1</th>\n",
       "      <th>player2</th>\n",
       "      <th>scored_together</th>\n",
       "      <th>club_name</th>\n",
       "    </tr>\n",
       "  </thead>\n",
       "  <tbody>\n",
       "    <tr>\n",
       "      <th>0</th>\n",
       "      <td>Luis Suarez</td>\n",
       "      <td>Lionel Messi</td>\n",
       "      <td>81</td>\n",
       "      <td>Fc Barcelona</td>\n",
       "    </tr>\n",
       "    <tr>\n",
       "      <th>1</th>\n",
       "      <td>Thomas Muller</td>\n",
       "      <td>Robert Lewandowski</td>\n",
       "      <td>61</td>\n",
       "      <td>Fc Bayern Munchen</td>\n",
       "    </tr>\n",
       "    <tr>\n",
       "      <th>2</th>\n",
       "      <td>Neymar</td>\n",
       "      <td>Lionel Messi</td>\n",
       "      <td>43</td>\n",
       "      <td>Fc Barcelona</td>\n",
       "    </tr>\n",
       "    <tr>\n",
       "      <th>3</th>\n",
       "      <td>Sadio Mane</td>\n",
       "      <td>Mohamed Salah</td>\n",
       "      <td>42</td>\n",
       "      <td>Fc Liverpool</td>\n",
       "    </tr>\n",
       "    <tr>\n",
       "      <th>4</th>\n",
       "      <td>Neymar</td>\n",
       "      <td>Luis Suarez</td>\n",
       "      <td>35</td>\n",
       "      <td>Fc Barcelona</td>\n",
       "    </tr>\n",
       "    <tr>\n",
       "      <th>5</th>\n",
       "      <td>Karim Benzema</td>\n",
       "      <td>Cristiano Ronaldo</td>\n",
       "      <td>34</td>\n",
       "      <td>Real Madrid</td>\n",
       "    </tr>\n",
       "    <tr>\n",
       "      <th>6</th>\n",
       "      <td>Serge Gnabry</td>\n",
       "      <td>Robert Lewandowski</td>\n",
       "      <td>32</td>\n",
       "      <td>Fc Bayern Munchen</td>\n",
       "    </tr>\n",
       "    <tr>\n",
       "      <th>7</th>\n",
       "      <td>Harry Kane</td>\n",
       "      <td>Heung Min Son</td>\n",
       "      <td>32</td>\n",
       "      <td>Tottenham Hotspur</td>\n",
       "    </tr>\n",
       "    <tr>\n",
       "      <th>8</th>\n",
       "      <td>Mohamed Salah</td>\n",
       "      <td>Roberto Firmino</td>\n",
       "      <td>29</td>\n",
       "      <td>Fc Liverpool</td>\n",
       "    </tr>\n",
       "    <tr>\n",
       "      <th>9</th>\n",
       "      <td>Kingsley Coman</td>\n",
       "      <td>Robert Lewandowski</td>\n",
       "      <td>29</td>\n",
       "      <td>Fc Bayern Munchen</td>\n",
       "    </tr>\n",
       "  </tbody>\n",
       "</table>\n",
       "</div>"
      ],
      "text/plain": [
       "          player1             player2  scored_together          club_name\n",
       "0     Luis Suarez        Lionel Messi               81       Fc Barcelona\n",
       "1   Thomas Muller  Robert Lewandowski               61  Fc Bayern Munchen\n",
       "2          Neymar        Lionel Messi               43       Fc Barcelona\n",
       "3      Sadio Mane       Mohamed Salah               42       Fc Liverpool\n",
       "4          Neymar         Luis Suarez               35       Fc Barcelona\n",
       "5   Karim Benzema   Cristiano Ronaldo               34        Real Madrid\n",
       "6    Serge Gnabry  Robert Lewandowski               32  Fc Bayern Munchen\n",
       "7      Harry Kane       Heung Min Son               32  Tottenham Hotspur\n",
       "8   Mohamed Salah     Roberto Firmino               29       Fc Liverpool\n",
       "9  Kingsley Coman  Robert Lewandowski               29  Fc Bayern Munchen"
      ]
     },
     "execution_count": 24,
     "metadata": {},
     "output_type": "execute_result"
    }
   ],
   "source": [
    "collection = db['scored_together']\n",
    "pip = [\n",
    "       {\"$group\": { \"_id\":{\"player1\":\"$player1\", \"player2\":\"$player2\", \"club_name\":\"$pretty_name\"}, \"scored_together\": { \"$sum\": \"$scored_together\" }}},\n",
    "       {\"$lookup\": {\n",
    "            \"from\": \"players\", \n",
    "            \"let\":{\"player1\": \"$_id.player1\"},\n",
    "            \"pipeline\":[\n",
    "                 {\"$match\": {\n",
    "                        \"$expr\": \n",
    "                            \n",
    "                                 { \"$eq\":[\"$_id\", \"$$player1\"]} ,             \n",
    "                    }\n",
    "                },\n",
    "                { \"$project\": { \"pretty_name\": \"$pretty_name\"}}\n",
    "            ],\n",
    "            \"as\": \"player1\"}},\n",
    "     {\"$lookup\": {\n",
    "            \"from\": \"players\", \n",
    "            \"let\":{\"player2\": \"$_id.player2\"},\n",
    "            \"pipeline\":[\n",
    "                 {\"$match\": {\n",
    "                        \"$expr\": \n",
    "                            \n",
    "                                 { \"$eq\":[\"$_id\", \"$$player2\"]} ,             \n",
    "                    }\n",
    "                },\n",
    "                { \"$project\": { \"pretty_name\": \"$pretty_name\"}}\n",
    "            ],\n",
    "            \"as\": \"player2\"}},\n",
    "    \n",
    "        {\"$sort\":{\"scored_together\":-1}},\n",
    "       {\"$limit\": 10},\n",
    "     {\"$unwind\":\"$player1\"},\n",
    "     {\"$unwind\":\"$player2\"},\n",
    "     { \"$project\": {\"_id\":0, \"player1\": \"$player1.pretty_name\", \"player2\":\"$player2.pretty_name\", \"scored_together\":\"$scored_together\", \"club_name\":\"$_id.club_name\"}},\n",
    "    {\"$limit\":10}\n",
    "      ]\n",
    "pd.DataFrame(list(collection.aggregate(pip)))"
   ]
  },
  {
   "cell_type": "markdown",
   "metadata": {},
   "source": [
    "## Query 8 - Ranking of the players with the higher number of goals and less aggressive in term of the number of cards "
   ]
  },
  {
   "cell_type": "code",
   "execution_count": null,
   "metadata": {},
   "outputs": [],
   "source": [
    "select app.player_id, app.number_goals, player.pretty_name\n",
    "from football_stats_2.players player, (select player_id, sum(goals) as number_goals, sum(yellow_cards) as number_yellow, sum(red_cards) as number_red\n",
    "from football_stats_2.appearances\n",
    "group by player_id) app\n",
    "where 1=1\n",
    "and player.player_id  = app.player_id \n",
    "and (number_yellow <11 or number_red <2 )\n",
    "order by app.number_goals desc"
   ]
  },
  {
   "cell_type": "code",
   "execution_count": 25,
   "metadata": {},
   "outputs": [
    {
     "data": {
      "text/html": [
       "<div>\n",
       "<style scoped>\n",
       "    .dataframe tbody tr th:only-of-type {\n",
       "        vertical-align: middle;\n",
       "    }\n",
       "\n",
       "    .dataframe tbody tr th {\n",
       "        vertical-align: top;\n",
       "    }\n",
       "\n",
       "    .dataframe thead th {\n",
       "        text-align: right;\n",
       "    }\n",
       "</style>\n",
       "<table border=\"1\" class=\"dataframe\">\n",
       "  <thead>\n",
       "    <tr style=\"text-align: right;\">\n",
       "      <th></th>\n",
       "      <th>Player_name</th>\n",
       "      <th>Number goals</th>\n",
       "    </tr>\n",
       "  </thead>\n",
       "  <tbody>\n",
       "    <tr>\n",
       "      <th>0</th>\n",
       "      <td>Robert Lewandowski</td>\n",
       "      <td>328</td>\n",
       "    </tr>\n",
       "    <tr>\n",
       "      <th>1</th>\n",
       "      <td>Lionel Messi</td>\n",
       "      <td>324</td>\n",
       "    </tr>\n",
       "    <tr>\n",
       "      <th>2</th>\n",
       "      <td>Luis Suarez</td>\n",
       "      <td>238</td>\n",
       "    </tr>\n",
       "    <tr>\n",
       "      <th>3</th>\n",
       "      <td>Harry Kane</td>\n",
       "      <td>213</td>\n",
       "    </tr>\n",
       "    <tr>\n",
       "      <th>4</th>\n",
       "      <td>Pierre Emerick Aubameyang</td>\n",
       "      <td>211</td>\n",
       "    </tr>\n",
       "    <tr>\n",
       "      <th>5</th>\n",
       "      <td>Karim Benzema</td>\n",
       "      <td>192</td>\n",
       "    </tr>\n",
       "    <tr>\n",
       "      <th>6</th>\n",
       "      <td>Mohamed Salah</td>\n",
       "      <td>189</td>\n",
       "    </tr>\n",
       "    <tr>\n",
       "      <th>7</th>\n",
       "      <td>Sergio Aguero</td>\n",
       "      <td>174</td>\n",
       "    </tr>\n",
       "    <tr>\n",
       "      <th>8</th>\n",
       "      <td>Romelu Lukaku</td>\n",
       "      <td>173</td>\n",
       "    </tr>\n",
       "    <tr>\n",
       "      <th>9</th>\n",
       "      <td>Edinson Cavani</td>\n",
       "      <td>168</td>\n",
       "    </tr>\n",
       "    <tr>\n",
       "      <th>10</th>\n",
       "      <td>Alexandre Lacazette</td>\n",
       "      <td>156</td>\n",
       "    </tr>\n",
       "    <tr>\n",
       "      <th>11</th>\n",
       "      <td>Wissam Ben Yedder</td>\n",
       "      <td>154</td>\n",
       "    </tr>\n",
       "    <tr>\n",
       "      <th>12</th>\n",
       "      <td>Bas Dost</td>\n",
       "      <td>151</td>\n",
       "    </tr>\n",
       "    <tr>\n",
       "      <th>13</th>\n",
       "      <td>Kylian Mbappe</td>\n",
       "      <td>149</td>\n",
       "    </tr>\n",
       "    <tr>\n",
       "      <th>14</th>\n",
       "      <td>Gonzalo Higuain</td>\n",
       "      <td>146</td>\n",
       "    </tr>\n",
       "    <tr>\n",
       "      <th>15</th>\n",
       "      <td>Mauro Icardi</td>\n",
       "      <td>145</td>\n",
       "    </tr>\n",
       "    <tr>\n",
       "      <th>16</th>\n",
       "      <td>Iago Aspas</td>\n",
       "      <td>136</td>\n",
       "    </tr>\n",
       "    <tr>\n",
       "      <th>17</th>\n",
       "      <td>Luuk De Jong</td>\n",
       "      <td>136</td>\n",
       "    </tr>\n",
       "    <tr>\n",
       "      <th>18</th>\n",
       "      <td>Wout Weghorst</td>\n",
       "      <td>133</td>\n",
       "    </tr>\n",
       "    <tr>\n",
       "      <th>19</th>\n",
       "      <td>Dries Mertens</td>\n",
       "      <td>131</td>\n",
       "    </tr>\n",
       "  </tbody>\n",
       "</table>\n",
       "</div>"
      ],
      "text/plain": [
       "                  Player_name  Number goals\n",
       "0          Robert Lewandowski           328\n",
       "1                Lionel Messi           324\n",
       "2                 Luis Suarez           238\n",
       "3                  Harry Kane           213\n",
       "4   Pierre Emerick Aubameyang           211\n",
       "5               Karim Benzema           192\n",
       "6               Mohamed Salah           189\n",
       "7               Sergio Aguero           174\n",
       "8               Romelu Lukaku           173\n",
       "9              Edinson Cavani           168\n",
       "10        Alexandre Lacazette           156\n",
       "11          Wissam Ben Yedder           154\n",
       "12                   Bas Dost           151\n",
       "13              Kylian Mbappe           149\n",
       "14            Gonzalo Higuain           146\n",
       "15               Mauro Icardi           145\n",
       "16                 Iago Aspas           136\n",
       "17               Luuk De Jong           136\n",
       "18              Wout Weghorst           133\n",
       "19              Dries Mertens           131"
      ]
     },
     "execution_count": 25,
     "metadata": {},
     "output_type": "execute_result"
    }
   ],
   "source": [
    "collection = db['players']\n",
    "pip = [\n",
    "       {\"$unwind\" : \"$appearances\"},\n",
    "       {\"$group\": { \"_id\":\"$pretty_name\", \"Number_goals\": { \"$sum\": \"$appearances.goals\" }, \"Num_yellow_cards\": { \"$sum\": \"$appearances.yellow_cards\" },\n",
    "                  \"Num_red_cards\": { \"$sum\": \"$appearances.red_cards\" }}},\n",
    "       {\"$match\": {\"$or\":[{\"Num_yellow_cards\":{\"$lt\":11}},{\"Num_red_cards\":{\"$lt\":2}}]}}, \n",
    "       {\"$project\": {\"Name\":\"$pretty_name\",\"Number goals\":\"$Number_goals\"}},\n",
    "       {\"$sort\" : {\"Number goals\": -1 }},\n",
    "       {\"$limit\": 20},\n",
    "       {\"$project\":{\"_id\":0, \"Player_name\":\"$_id\", \"Number goals\":\"$Number goals\"}}\n",
    "      ]\n",
    "pd.DataFrame(list(collection.aggregate(pip)))"
   ]
  },
  {
   "cell_type": "markdown",
   "metadata": {
    "tags": []
   },
   "source": [
    "# Query 9 - The three shortest players (less than 170 cm) with higher number of goals - "
   ]
  },
  {
   "cell_type": "code",
   "execution_count": null,
   "metadata": {},
   "outputs": [],
   "source": [
    "select pretty_name, number_goal\n",
    "from (select player_id, sum(goals) as number_goal\n",
    "    from football_stats_2.appearances\n",
    "    group by player_id) result,\n",
    "football_stats_2.players player\n",
    "where result.player_id = player.player_id \n",
    "and height_in_cm < 170\n",
    "order by number_goal desc\n",
    "limit 3;"
   ]
  },
  {
   "cell_type": "code",
   "execution_count": 26,
   "metadata": {
    "tags": []
   },
   "outputs": [
    {
     "data": {
      "text/html": [
       "<div>\n",
       "<style scoped>\n",
       "    .dataframe tbody tr th:only-of-type {\n",
       "        vertical-align: middle;\n",
       "    }\n",
       "\n",
       "    .dataframe tbody tr th {\n",
       "        vertical-align: top;\n",
       "    }\n",
       "\n",
       "    .dataframe thead th {\n",
       "        text-align: right;\n",
       "    }\n",
       "</style>\n",
       "<table border=\"1\" class=\"dataframe\">\n",
       "  <thead>\n",
       "    <tr style=\"text-align: right;\">\n",
       "      <th></th>\n",
       "      <th>_id</th>\n",
       "      <th>Number Goal</th>\n",
       "    </tr>\n",
       "  </thead>\n",
       "  <tbody>\n",
       "    <tr>\n",
       "      <th>0</th>\n",
       "      <td>Lionel Messi</td>\n",
       "      <td>324</td>\n",
       "    </tr>\n",
       "    <tr>\n",
       "      <th>1</th>\n",
       "      <td>Dries Mertens</td>\n",
       "      <td>131</td>\n",
       "    </tr>\n",
       "    <tr>\n",
       "      <th>2</th>\n",
       "      <td>Lorenzo Insigne</td>\n",
       "      <td>102</td>\n",
       "    </tr>\n",
       "  </tbody>\n",
       "</table>\n",
       "</div>"
      ],
      "text/plain": [
       "               _id  Number Goal\n",
       "0     Lionel Messi          324\n",
       "1    Dries Mertens          131\n",
       "2  Lorenzo Insigne          102"
      ]
     },
     "execution_count": 26,
     "metadata": {},
     "output_type": "execute_result"
    }
   ],
   "source": [
    "collection = db['players']\n",
    "pip = [\n",
    "        {\"$match\": {   \"height_in_cm\":{\"$lt\":170} }},\n",
    "        {\"$unwind\":  '$appearances' },\n",
    "        { \"$group\": \n",
    "                {\n",
    "                    \"_id\":\"$pretty_name\",\n",
    "                    \"Number Goal\": { \"$sum\": \"$appearances.goals\" }\n",
    "                }\n",
    "            },\n",
    "        {\"$sort\":{'Number Goal': -1, }},    \n",
    "\n",
    "        {\"$limit\": 3}\n",
    "]\n",
    "pd.DataFrame(list(collection.aggregate(pip)))"
   ]
  },
  {
   "cell_type": "markdown",
   "metadata": {},
   "source": [
    "# Query 10 - Top 10 players in Serie A with higher number of goals away against teams that were higher in rank"
   ]
  },
  {
   "cell_type": "code",
   "execution_count": null,
   "metadata": {},
   "outputs": [],
   "source": [
    "select p.pretty_name, sum(app.goals) as number_goals\n",
    "from football_stats_2.players p, \n",
    "\t football_stats_2.appearances app, \n",
    "     football_stats_2.games g\n",
    "where p.player_id = app.player_id\n",
    "and app.game_id = g.game_id\n",
    "and app.player_club_id = g.away_club_id\n",
    "and g.away_club_position > g.home_club_position\n",
    "and app.competition_id = \"IT1\" #index here\n",
    "and app.goals > 0\n",
    "group by p.pretty_name\n",
    "order by number_goals desc\n",
    "limit 10;"
   ]
  },
  {
   "cell_type": "code",
   "execution_count": 27,
   "metadata": {},
   "outputs": [
    {
     "data": {
      "text/html": [
       "<div>\n",
       "<style scoped>\n",
       "    .dataframe tbody tr th:only-of-type {\n",
       "        vertical-align: middle;\n",
       "    }\n",
       "\n",
       "    .dataframe tbody tr th {\n",
       "        vertical-align: top;\n",
       "    }\n",
       "\n",
       "    .dataframe thead th {\n",
       "        text-align: right;\n",
       "    }\n",
       "</style>\n",
       "<table border=\"1\" class=\"dataframe\">\n",
       "  <thead>\n",
       "    <tr style=\"text-align: right;\">\n",
       "      <th></th>\n",
       "      <th>Player_name</th>\n",
       "      <th>Number_goals</th>\n",
       "    </tr>\n",
       "  </thead>\n",
       "  <tbody>\n",
       "    <tr>\n",
       "      <th>0</th>\n",
       "      <td>Andrea Belotti</td>\n",
       "      <td>24</td>\n",
       "    </tr>\n",
       "    <tr>\n",
       "      <th>1</th>\n",
       "      <td>Fabio Quagliarella</td>\n",
       "      <td>18</td>\n",
       "    </tr>\n",
       "    <tr>\n",
       "      <th>2</th>\n",
       "      <td>Gregoire Defrel</td>\n",
       "      <td>15</td>\n",
       "    </tr>\n",
       "    <tr>\n",
       "      <th>3</th>\n",
       "      <td>Domenico Berardi</td>\n",
       "      <td>15</td>\n",
       "    </tr>\n",
       "    <tr>\n",
       "      <th>4</th>\n",
       "      <td>Simy</td>\n",
       "      <td>15</td>\n",
       "    </tr>\n",
       "    <tr>\n",
       "      <th>5</th>\n",
       "      <td>Joao Pedro</td>\n",
       "      <td>14</td>\n",
       "    </tr>\n",
       "    <tr>\n",
       "      <th>6</th>\n",
       "      <td>Andrea Petagna</td>\n",
       "      <td>13</td>\n",
       "    </tr>\n",
       "    <tr>\n",
       "      <th>7</th>\n",
       "      <td>Mattia Destro</td>\n",
       "      <td>11</td>\n",
       "    </tr>\n",
       "    <tr>\n",
       "      <th>8</th>\n",
       "      <td>Ciro Immobile</td>\n",
       "      <td>11</td>\n",
       "    </tr>\n",
       "    <tr>\n",
       "      <th>9</th>\n",
       "      <td>Leonardo Pavoletti</td>\n",
       "      <td>11</td>\n",
       "    </tr>\n",
       "  </tbody>\n",
       "</table>\n",
       "</div>"
      ],
      "text/plain": [
       "          Player_name  Number_goals\n",
       "0      Andrea Belotti            24\n",
       "1  Fabio Quagliarella            18\n",
       "2     Gregoire Defrel            15\n",
       "3    Domenico Berardi            15\n",
       "4                Simy            15\n",
       "5          Joao Pedro            14\n",
       "6      Andrea Petagna            13\n",
       "7       Mattia Destro            11\n",
       "8       Ciro Immobile            11\n",
       "9  Leonardo Pavoletti            11"
      ]
     },
     "execution_count": 27,
     "metadata": {},
     "output_type": "execute_result"
    }
   ],
   "source": [
    "collection = db['players']\n",
    "\n",
    "pip = [\n",
    "        {\"$unwind\":  '$appearances' }, \n",
    "        {\"$match\":{\n",
    "                    \"$and\":\n",
    "                   [{\"appearances.goals\":{\"$gt\":0}},\n",
    "                    {\"appearances.competition_id\":\"IT1\"},\n",
    "                   ]\n",
    "                   }\n",
    "        },\n",
    "        {\"$project\": {\"_id\":0,\"games_id\":\"$appearances.game_id\", \"player_club_id\": \"$appearances.player_club_id\", \"pretty_name\":\"$pretty_name\", \"number_goal\":\"$appearances.goals\"}},\n",
    "        {\"$lookup\": {\n",
    "            \"from\": \"games\", \n",
    "            \"let\": {\"game_id\":\"$games_id\",\"player_club\":\"$player_club_id\"},\n",
    "            \"pipeline\":[\n",
    "                {\"$match\": {\n",
    "                        \"$expr\": { \n",
    "                            \"$and\":[\n",
    "                                 {\"$eq\": [\"$_id\", \"$$game_id\"]} ,\n",
    "                                 {\"$eq\": [\"$away_club_id\", \"$$player_club\"]},\n",
    "                                 {\"$gt\": [\"$away_club_position\",\"$home_club_position\" ]}\n",
    "                            ]\n",
    "                        }\n",
    "                    }\n",
    "                },\n",
    "            ],\n",
    "            \n",
    "            \"as\": \"games2\"\n",
    "            \n",
    "        }},\n",
    "      \n",
    "        {\"$match\": {\"games2.0\": {\"$exists\": True}}},\n",
    "        {\"$group\": { \"_id\": \"$pretty_name\", \"Number_goals\": { \"$sum\": \"$number_goal\" }}},\n",
    "        {\"$sort\" : {\"Number_goals\": -1 }},\n",
    "        {\"$limit\": 10},\n",
    "        {\"$project\":{\"_id\":0, \"Player_name\":\"$_id\", \"Number_goals\":\"$Number_goals\"}}\n",
    "]\n",
    "pd.DataFrame(list(collection.aggregate(pip)))"
   ]
  }
 ],
 "metadata": {
  "kernelspec": {
   "display_name": "Python 3 (ipykernel)",
   "language": "python",
   "name": "python3"
  },
  "language_info": {
   "codemirror_mode": {
    "name": "ipython",
    "version": 3
   },
   "file_extension": ".py",
   "mimetype": "text/x-python",
   "name": "python",
   "nbconvert_exporter": "python",
   "pygments_lexer": "ipython3",
   "version": "3.8.1"
  }
 },
 "nbformat": 4,
 "nbformat_minor": 4
}
